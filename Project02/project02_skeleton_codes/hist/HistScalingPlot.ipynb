{
 "cells": [
  {
   "cell_type": "code",
   "execution_count": 28,
   "id": "c5e40690",
   "metadata": {},
   "outputs": [],
   "source": [
    "using Plots\n",
    "using GLM\n",
    "using DataFrames\n",
    "using Statistics"
   ]
  },
  {
   "cell_type": "code",
   "execution_count": 29,
   "id": "f8dd7738",
   "metadata": {},
   "outputs": [
    {
     "data": {
      "text/plain": [
       "10"
      ]
     },
     "execution_count": 29,
     "metadata": {},
     "output_type": "execute_result"
    }
   ],
   "source": [
    "threadsUsed = [1, 2, 4, 8, 12, 16, 20, 24, 32, 40]\n",
    "ideal = 1:maximum(threadsUsed)\n",
    "\n",
    "T = length(threadsUsed)\n",
    "N = 10"
   ]
  },
  {
   "cell_type": "code",
   "execution_count": 30,
   "id": "ed99b49b",
   "metadata": {},
   "outputs": [
    {
     "data": {
      "text/plain": [
       "extract_data (generic function with 1 method)"
      ]
     },
     "execution_count": 30,
     "metadata": {},
     "output_type": "execute_result"
    }
   ],
   "source": [
    "function extract_data(filename::AbstractString)\n",
    "    data = zeros(Float64, T, 10)\n",
    "    \n",
    "    current_thread = 0\n",
    "    i = 0\n",
    "    j = 0\n",
    "    \n",
    "    open(filename, \"r\") do file\n",
    "        for line in eachline(file)\n",
    "            if occursin(\"Run with \", line)\n",
    "                current_threads = filter(isdigit, line)\n",
    "                i +=1\n",
    "                j = 0\n",
    "            elseif occursin(\"Time: \", line)\n",
    "                j+=1\n",
    "                time = parse(Float64, split(line, \"Time: \")[end])\n",
    "                data[i, j] = time\n",
    "            end\n",
    "        end\n",
    "    end\n",
    "    \n",
    "    return data\n",
    "end"
   ]
  },
  {
   "cell_type": "code",
   "execution_count": 31,
   "id": "e9f62146",
   "metadata": {},
   "outputs": [
    {
     "data": {
      "text/plain": [
       "10×10 Matrix{Float64}:\n",
       " 1.58545   1.56401   1.56131   1.55413   …  1.57103   1.57567   1.57109\n",
       " 1.324     1.32507   1.31283   1.31325      1.31968   1.31992   1.31563\n",
       " 0.749351  0.881637  0.919764  0.643804     0.742255  0.740157  0.666159\n",
       " 0.397573  0.39132   0.394323  0.397593     0.443237  0.436229  0.39271\n",
       " 0.336424  0.272824  0.272744  0.271919     0.330494  0.277349  0.27396\n",
       " 0.268915  0.223636  0.526868  0.291438  …  0.216737  0.217964  0.257837\n",
       " 0.24648   0.219278  0.258487  0.236196     0.249663  0.246731  0.238456\n",
       " 0.238462  0.234861  0.224432  0.246913     0.242638  0.265582  0.261329\n",
       " 0.295376  0.263041  0.256353  0.285986     0.261576  0.2431    0.176828\n",
       " 0.31109   0.263555  0.283234  0.354019     0.24409   0.177405  0.282348"
      ]
     },
     "execution_count": 31,
     "metadata": {},
     "output_type": "execute_result"
    }
   ],
   "source": [
    "sequential_runtime = [1.58545, 1.56401, 1.56131, 1.55413, 1.5892, \n",
    "                        1.58396, 1.56357, 1.57103, 1.57567,1.5710]\n",
    "runtime = extract_data(\"scaling_hist_seq-52011955.out\")"
   ]
  },
  {
   "cell_type": "code",
   "execution_count": 32,
   "id": "b93bb02d",
   "metadata": {},
   "outputs": [
    {
     "data": {
      "text/plain": [
       "6×1 Matrix{Float64}:\n",
       " 1.0005556757857752\n",
       " 1.19103879375663\n",
       " 2.1077053860067605\n",
       " 3.982546480857247\n",
       " 5.76255572174321\n",
       " 6.695900715835927"
      ]
     },
     "execution_count": 32,
     "metadata": {},
     "output_type": "execute_result"
    }
   ],
   "source": [
    "median_runtime = median(runtime[1:6, :], dims=2)\n",
    "average_runtime = mean(runtime[1:6, :], dims=2)\n",
    "\n",
    "speedup = mean(sequential_runtime, dims=1) ./ median_runtime\n",
    "average"
   ]
  },
  {
   "cell_type": "code",
   "execution_count": 33,
   "id": "b646b386",
   "metadata": {},
   "outputs": [
    {
     "data": {
      "text/plain": [
       "StatsModels.TableRegressionModel{LinearModel{GLM.LmResp{Vector{Float64}}, GLM.DensePredChol{Float64, LinearAlgebra.CholeskyPivoted{Float64, Matrix{Float64}, Vector{Int64}}}}, Matrix{Float64}}\n",
       "\n",
       ":(transpose(speedup)) ~ 1 + threadsUsed\n",
       "\n",
       "Coefficients:\n",
       "────────────────────────────────────────────────────────────────────────\n",
       "                Coef.  Std. Error      t  Pr(>|t|)  Lower 95%  Upper 95%\n",
       "────────────────────────────────────────────────────────────────────────\n",
       "(Intercept)  0.566271   0.187272    3.02    0.0390  0.0463198    1.08622\n",
       "threadsUsed  0.403318   0.0208295  19.36    <1e-04  0.345486     0.46115\n",
       "────────────────────────────────────────────────────────────────────────"
      ]
     },
     "execution_count": 33,
     "metadata": {},
     "output_type": "execute_result"
    }
   ],
   "source": [
    "model = lm(@formula(transpose(speedup) ~ threadsUsed), DataFrame(speedup=speedup[1:6], threadsUsed=threadsUsed[1:6]))"
   ]
  },
  {
   "cell_type": "code",
   "execution_count": 34,
   "id": "77895eb2",
   "metadata": {},
   "outputs": [
    {
     "data": {
      "text/plain": [
       "16-element Vector{Float64}:\n",
       " 0.9695893267369924\n",
       " 1.3729073487251977\n",
       " 1.776225370713403\n",
       " 2.1795433927016084\n",
       " 2.582861414689814\n",
       " 2.986179436678019\n",
       " 3.389497458666224\n",
       " 3.7928154806544296\n",
       " 4.196133502642635\n",
       " 4.59945152463084\n",
       " 5.002769546619046\n",
       " 5.406087568607251\n",
       " 5.809405590595457\n",
       " 6.212723612583661\n",
       " 6.616041634571866\n",
       " 7.019359656560072"
      ]
     },
     "execution_count": 34,
     "metadata": {},
     "output_type": "execute_result"
    }
   ],
   "source": [
    "intercept = coef(model)[1]\n",
    "slope = coef(model)[2]\n",
    "fit = [slope * i + intercept for i in 1:maximum(threadsUsed[1:6])]"
   ]
  },
  {
   "cell_type": "code",
   "execution_count": 36,
   "id": "b6b38674",
   "metadata": {},
   "outputs": [
    {
     "data": {
      "text/plain": [
       "\"/home/timo/ETH/FS24/HPCL24/Project02/project02_skeleton_codes/hist/strongHistScaling.pdf\""
      ]
     },
     "execution_count": 36,
     "metadata": {},
     "output_type": "execute_result"
    }
   ],
   "source": [
    "scatter(threadsUsed[1:6], speedup, xlabel=\"Number of Threads\", ylabel=\"Speedup\", label=\"Measured\")\n",
    "plot!(ideal[1:16], label=\"Ideal (1)\")\n",
    "xticks!(threadsUsed)\n",
    "plot!(fit, label=\"Fit (0.4)\")\n",
    "savefig(\"strongHistScaling.pdf\")"
   ]
  },
  {
   "cell_type": "code",
   "execution_count": null,
   "id": "38f17601",
   "metadata": {},
   "outputs": [],
   "source": []
  }
 ],
 "metadata": {
  "kernelspec": {
   "display_name": "Julia 1.9.3",
   "language": "julia",
   "name": "julia-1.9"
  },
  "language_info": {
   "file_extension": ".jl",
   "mimetype": "application/julia",
   "name": "julia",
   "version": "1.9.3"
  }
 },
 "nbformat": 4,
 "nbformat_minor": 5
}
