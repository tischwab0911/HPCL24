{
 "cells": [
  {
   "cell_type": "code",
   "execution_count": 72,
   "id": "5cccd83a",
   "metadata": {},
   "outputs": [],
   "source": [
    "using Plots\n",
    "using GLM\n",
    "using DataFrames\n",
    "using Statistics"
   ]
  },
  {
   "cell_type": "code",
   "execution_count": 38,
   "id": "0195fad6",
   "metadata": {},
   "outputs": [
    {
     "data": {
      "text/plain": [
       "1:96"
      ]
     },
     "execution_count": 38,
     "metadata": {},
     "output_type": "execute_result"
    }
   ],
   "source": [
    "# Important variables\n",
    "threadsUsed = [1, 2, 4, 6, 8, 10, 12, 14, 16, 20, 24, 28, 32, 36, 40, 44, 48, 56, 64, 72, 80, 88, 96]\n",
    "NRUNS = 5\n",
    "\n",
    "# Ideal strong scaling\n",
    "ideal = 1:maximum(threadsUsed)"
   ]
  },
  {
   "cell_type": "code",
   "execution_count": 39,
   "id": "095234fc",
   "metadata": {},
   "outputs": [
    {
     "data": {
      "text/plain": [
       "extract_data (generic function with 1 method)"
      ]
     },
     "execution_count": 39,
     "metadata": {},
     "output_type": "execute_result"
    }
   ],
   "source": [
    "# Function to extract data from output\n",
    "function extract_data(filename::AbstractString)\n",
    "    data = zeros(length(threadsUsed), NRUNS)\n",
    "    \n",
    "    current_thread = 0\n",
    "    \n",
    "    i = 0\n",
    "    j = 1\n",
    "    \n",
    "    open(filename, \"r\") do file\n",
    "        for line in eachline(file)\n",
    "            if occursin(\"Threads\", line)\n",
    "                current_threads = filter(isdigit, line)\n",
    "                i+=1\n",
    "                j =1\n",
    "            elseif occursin(\"Parallel RunTime  :\", line)\n",
    "                time = parse(Float64, split(line, \"Parallel RunTime  :\")[end])\n",
    "                data[i, j] = time\n",
    "                j+=1\n",
    "            end\n",
    "        end\n",
    "    end\n",
    "    return data\n",
    "end"
   ]
  },
  {
   "cell_type": "code",
   "execution_count": 40,
   "id": "3d0b9b47",
   "metadata": {},
   "outputs": [
    {
     "data": {
      "text/plain": [
       "23×5 Matrix{Float64}:\n",
       " 5.40402   5.78349   5.67836   5.72604   5.75979\n",
       " 3.71012   3.45383   3.67912   3.9087    3.7059\n",
       " 2.33203   2.62806   2.89657   2.77943   2.78902\n",
       " 1.79887   1.77901   1.57121   1.76906   1.66402\n",
       " 1.26967   1.27299   1.22658   1.2658    1.17902\n",
       " 1.01698   1.16325   1.18449   0.950213  1.12498\n",
       " 0.862718  1.00033   0.98447   0.834331  0.919111\n",
       " 0.684131  0.722687  0.799322  0.80026   0.696138\n",
       " 0.585593  0.436179  0.757186  0.734628  0.661803\n",
       " 0.53534   0.594033  0.541399  0.536875  0.551029\n",
       " 0.4336    0.483799  0.440117  0.526559  0.476939\n",
       " 0.345795  0.440032  0.44598   0.420391  0.383209\n",
       " 0.378208  0.369546  0.312055  0.320638  0.366132\n",
       " 0.364865  0.266409  0.30606   0.359589  0.339796\n",
       " 0.264658  0.296894  0.297614  0.316606  0.308187\n",
       " 0.223793  0.255957  0.290732  0.253399  0.239835\n",
       " 0.241721  0.286831  0.234794  0.249318  0.279\n",
       " 0.186681  0.251059  0.219269  0.22423   0.18057\n",
       " 0.194519  0.174971  0.219412  0.195339  0.197545\n",
       " 0.147948  0.173434  0.52073   0.193646  0.181938\n",
       " 0.183389  0.17986   0.165935  0.170884  0.143282\n",
       " 0.150491  0.136114  0.158172  0.147587  0.142684\n",
       " 0.147654  0.149972  0.163738  0.126889  0.184531"
      ]
     },
     "execution_count": 40,
     "metadata": {},
     "output_type": "execute_result"
    }
   ],
   "source": [
    "data = extract_data(\"Loop-52021511.out\")"
   ]
  },
  {
   "cell_type": "code",
   "execution_count": 41,
   "id": "1a689e8b",
   "metadata": {},
   "outputs": [
    {
     "data": {
      "text/plain": [
       "23×1 Matrix{Float64}:\n",
       " 5.670338600000001\n",
       " 3.6915356000000004\n",
       " 2.685023\n",
       " 1.7164346000000001\n",
       " 1.2428134\n",
       " 1.08798\n",
       " 0.920193\n",
       " 0.7405076\n",
       " 0.6350777999999999\n",
       " 0.5517352000000001\n",
       " 0.4722028\n",
       " 0.40708140000000004\n",
       " 0.3493158\n",
       " 0.3273438\n",
       " 0.2967918\n",
       " 0.2527432\n",
       " 0.2583328\n",
       " 0.2123618\n",
       " 0.1963572\n",
       " 0.24353919999999998\n",
       " 0.16867000000000001\n",
       " 0.14700960000000002\n",
       " 0.1545568"
      ]
     },
     "execution_count": 41,
     "metadata": {},
     "output_type": "execute_result"
    }
   ],
   "source": [
    "median_runtime = median(data, dims=2)\n",
    "average_runtime = mean(data, dims=2)"
   ]
  },
  {
   "cell_type": "code",
   "execution_count": 42,
   "id": "8c92c3f8",
   "metadata": {},
   "outputs": [
    {
     "name": "stdout",
     "output_type": "stream",
     "text": [
      "5.726043\n",
      "5.670338600000001\n"
     ]
    }
   ],
   "source": [
    "median_baseline_omp = median_runtime[1]\n",
    "println(median_baseline_omp)\n",
    "average_baseline_omp = average_runtime[1]\n",
    "println(average_baseline_omp)"
   ]
  },
  {
   "cell_type": "code",
   "execution_count": 43,
   "id": "ef827a5e",
   "metadata": {},
   "outputs": [
    {
     "name": "stdout",
     "output_type": "stream",
     "text": [
      "6.325363399999999\n",
      "5.850235\n"
     ]
    }
   ],
   "source": [
    "# sequential version !!! (this is not omp with one thread)\n",
    "sequential_runtimes = [7.795667, 5.703793, 6.582873, 5.850235, 5.694249]\n",
    "average_sequential = mean(sequential_runtimes)\n",
    "println(average_sequential)\n",
    "median_sequential = median(sequential_runtimes)\n",
    "println(median_sequential)"
   ]
  },
  {
   "cell_type": "code",
   "execution_count": 44,
   "id": "8903c562",
   "metadata": {},
   "outputs": [
    {
     "data": {
      "text/plain": [
       "23×1 Matrix{Float64}:\n",
       "  1.1155177576168023\n",
       "  1.7134775566027314\n",
       "  2.3557948665616637\n",
       "  3.6851758872723717\n",
       "  5.089551979404148\n",
       "  5.813859997426422\n",
       "  6.873952964215114\n",
       "  8.541929076757617\n",
       "  9.95998191087769\n",
       " 11.464491299449442\n",
       " 13.395438146491294\n",
       " 15.538325750083395\n",
       " 18.107865146666708\n",
       " 19.323302900497882\n",
       " 21.31246011513795\n",
       " 25.026839099924345\n",
       " 24.485328227774403\n",
       " 29.78578727435913\n",
       " 32.21355468503319\n",
       " 25.97267051875016\n",
       " 37.50141341080215\n",
       " 43.02687307495564\n",
       " 40.92581756351063"
      ]
     },
     "execution_count": 44,
     "metadata": {},
     "output_type": "execute_result"
    }
   ],
   "source": [
    "median_speedup_omp = median_baseline_omp ./ median_runtime\n",
    "average_speedup_omp = average_baseline_omp ./ average_runtime\n",
    "\n",
    "median_speedup_seq = median_sequential ./ median_runtime\n",
    "average_speedup_seq = average_sequential ./ average_runtime"
   ]
  },
  {
   "cell_type": "code",
   "execution_count": 47,
   "id": "db34f4ef",
   "metadata": {},
   "outputs": [
    {
     "data": {
      "text/plain": [
       "StatsModels.TableRegressionModel{LinearModel{GLM.LmResp{Vector{Float64}}, GLM.DensePredChol{Float64, LinearAlgebra.CholeskyPivoted{Float64, Matrix{Float64}, Vector{Int64}}}}, Matrix{Float64}}\n",
       "\n",
       ":(transpose(average_speedup_seq)) ~ 1 + threadsUsed\n",
       "\n",
       "Coefficients:\n",
       "────────────────────────────────────────────────────────────────────────\n",
       "                Coef.  Std. Error      t  Pr(>|t|)  Lower 95%  Upper 95%\n",
       "────────────────────────────────────────────────────────────────────────\n",
       "(Intercept)  2.27029    0.799969    2.84    0.0099   0.606659   3.93391\n",
       "threadsUsed  0.438218   0.0177889  24.63    <1e-16   0.401224   0.475212\n",
       "────────────────────────────────────────────────────────────────────────"
      ]
     },
     "execution_count": 47,
     "metadata": {},
     "output_type": "execute_result"
    }
   ],
   "source": [
    "# Fit the data using GLM\n",
    "Model_median_omp = lm(@formula(transpose(median_speedup_omp) ~ threadsUsed), DataFrame(median_speedup_omp=median_speedup_omp[:], threadsUsed=threadsUsed))\n",
    "Model_average_omp = lm(@formula(transpose(average_speedup_omp) ~ threadsUsed), DataFrame(average_speedup_omp=average_speedup_omp[:], threadsUsed=threadsUsed))\n",
    "Model_median_seq = lm(@formula(transpose(median_speedup_seq) ~ threadsUsed), DataFrame(median_speedup_seq=median_speedup_seq[:], threadsUsed=threadsUsed))\n",
    "Model_average_seq = lm(@formula(transpose(average_speedup_seq) ~ threadsUsed), DataFrame(average_speedup_seq=average_speedup_seq[:], threadsUsed=threadsUsed))"
   ]
  },
  {
   "cell_type": "code",
   "execution_count": 54,
   "id": "c545c788",
   "metadata": {},
   "outputs": [
    {
     "data": {
      "text/plain": [
       "0.4382182641134646"
      ]
     },
     "execution_count": 54,
     "metadata": {},
     "output_type": "execute_result"
    }
   ],
   "source": [
    "# Get the slope for the median speedup with OpenMP baseline model\n",
    "slope_median_omp = coef(Model_median_omp)[2]\n",
    "\n",
    "# Get the slope for the average speedup with OpenMP baseline model\n",
    "slope_average_omp = coef(Model_average_omp)[2]\n",
    "\n",
    "# Get the slope for the median speedup with sequential baseline model\n",
    "slope_median_seq = coef(Model_median_seq)[2]\n",
    "\n",
    "# Get the slope for the average speedup with sequential baseline model\n",
    "slope_average_seq = coef(Model_average_seq)[2]"
   ]
  },
  {
   "cell_type": "code",
   "execution_count": 49,
   "id": "5e881afd",
   "metadata": {},
   "outputs": [
    {
     "data": {
      "text/plain": [
       "96-element Vector{Float64}:\n",
       "  2.7085043360824095\n",
       "  3.1467226001958744\n",
       "  3.584940864309339\n",
       "  4.023159128422804\n",
       "  4.461377392536268\n",
       "  4.8995956566497325\n",
       "  5.337813920763198\n",
       "  5.776032184876662\n",
       "  6.214250448990127\n",
       "  6.652468713103591\n",
       "  7.0906869772170555\n",
       "  7.52890524133052\n",
       "  7.967123505443984\n",
       "  ⋮\n",
       " 39.51883852161344\n",
       " 39.957056785726905\n",
       " 40.395275049840365\n",
       " 40.83349331395383\n",
       " 41.2717115780673\n",
       " 41.70992984218076\n",
       " 42.14814810629422\n",
       " 42.58636637040769\n",
       " 43.024584634521155\n",
       " 43.46280289863462\n",
       " 43.90102116274808\n",
       " 44.339239426861546"
      ]
     },
     "execution_count": 49,
     "metadata": {},
     "output_type": "execute_result"
    }
   ],
   "source": [
    "Fit_median_omp = [coef(Model_median_omp)[2] * i + coef(Model_median_omp)[1] for i in ideal]\n",
    "Fit_average_omp = [coef(Model_average_omp)[2] * i + coef(Model_average_omp)[1] for i in ideal]\n",
    "Fit_median_seq = [coef(Model_median_seq)[2] * i + coef(Model_median_seq)[1] for i in ideal]\n",
    "Fit_average_seq = [coef(Model_average_seq)[2] * i + coef(Model_average_seq)[1] for i in ideal]"
   ]
  },
  {
   "cell_type": "code",
   "execution_count": 66,
   "id": "ef4f7060",
   "metadata": {},
   "outputs": [
    {
     "data": {
      "text/plain": [
       "\"/home/timo/ETH/FS24/HPCL24/Project02/project02_skeleton_codes/loop-dependencies/median_speedup_omp_plot.pdf\""
      ]
     },
     "execution_count": 66,
     "metadata": {},
     "output_type": "execute_result"
    }
   ],
   "source": [
    "scatter(threadsUsed, median_speedup_omp, xlabel=\"Number of Threads\", ylabel=\"Speedup\", label=\"Measured Mean Runtime, Base OMP=1\")\n",
    "plot!(ideal, label=\"Ideal (1.0)\")\n",
    "plot!(Fit_median_omp, label=\"Fit ($slope_median_omp)\")\n",
    "savefig(\"median_speedup_omp_plot.pdf\")"
   ]
  },
  {
   "cell_type": "code",
   "execution_count": 67,
   "id": "c2ba9d0c",
   "metadata": {},
   "outputs": [
    {
     "data": {
      "text/plain": [
       "\"/home/timo/ETH/FS24/HPCL24/Project02/project02_skeleton_codes/loop-dependencies/average_speedup_omp_plot.pdf\""
      ]
     },
     "execution_count": 67,
     "metadata": {},
     "output_type": "execute_result"
    }
   ],
   "source": [
    "scatter(threadsUsed, average_speedup_omp, xlabel=\"Number of Threads\", ylabel=\"Speedup\", label=\"Measured Mean Runtime, Base OMP=1\")\n",
    "plot!(ideal, label=\"Ideal (1.0)\")\n",
    "plot!(Fit_average_omp, label=\"Fit ($slope_average_omp)\")\n",
    "savefig(\"average_speedup_omp_plot.pdf\")"
   ]
  },
  {
   "cell_type": "code",
   "execution_count": 68,
   "id": "54ed4959",
   "metadata": {},
   "outputs": [
    {
     "data": {
      "text/plain": [
       "\"/home/timo/ETH/FS24/HPCL24/Project02/project02_skeleton_codes/loop-dependencies/median_speedup_seq_plot.pdf\""
      ]
     },
     "execution_count": 68,
     "metadata": {},
     "output_type": "execute_result"
    }
   ],
   "source": [
    "scatter(threadsUsed, median_speedup_seq, xlabel=\"Number of Threads\", ylabel=\"Speedup\", label=\"Measured Mean Runtime, Base sequential\")\n",
    "plot!(ideal, label=\"Ideal (1.0)\")\n",
    "plot!(Fit_median_seq, label=\"Fit ($slope_median_seq)\")\n",
    "savefig(\"median_speedup_seq_plot.pdf\")"
   ]
  },
  {
   "cell_type": "code",
   "execution_count": 69,
   "id": "f045ee9b",
   "metadata": {},
   "outputs": [
    {
     "data": {
      "text/plain": [
       "\"/home/timo/ETH/FS24/HPCL24/Project02/project02_skeleton_codes/loop-dependencies/average_speedup_seq_plot.pdf\""
      ]
     },
     "execution_count": 69,
     "metadata": {},
     "output_type": "execute_result"
    }
   ],
   "source": [
    "scatter(threadsUsed, average_speedup_seq, xlabel=\"Number of Threads\", ylabel=\"Speedup\", label=\"Measured Mean Runtime, Base sequential\")\n",
    "plot!(ideal, label=\"Ideal (1.0)\")\n",
    "plot!(Fit_average_seq, label=\"Fit ($slope_average_seq)\")\n",
    "savefig(\"average_speedup_seq_plot.pdf\")"
   ]
  }
 ],
 "metadata": {
  "kernelspec": {
   "display_name": "Julia 1.9.3",
   "language": "julia",
   "name": "julia-1.9"
  },
  "language_info": {
   "file_extension": ".jl",
   "mimetype": "application/julia",
   "name": "julia",
   "version": "1.9.3"
  }
 },
 "nbformat": 4,
 "nbformat_minor": 5
}
