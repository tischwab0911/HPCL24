{
 "cells": [
  {
   "cell_type": "code",
   "execution_count": 2,
   "id": "5a6557dd",
   "metadata": {},
   "outputs": [],
   "source": [
    "using Plots\n",
    "using Pkg\n",
    "#Pkg.add(\"GLM\")\n",
    "#Pkg.add(\"DataFrames\")\n",
    "using GLM\n",
    "using DataFrames"
   ]
  },
  {
   "cell_type": "code",
   "execution_count": 3,
   "id": "4e99a1ab",
   "metadata": {},
   "outputs": [
    {
     "data": {
      "text/plain": [
       "1:48"
      ]
     },
     "execution_count": 3,
     "metadata": {},
     "output_type": "execute_result"
    }
   ],
   "source": [
    "threadsUsed = [1, 2, 4, 8, 16, 24, 32, 40, 48]\n",
    "ideal = 1:maximum(threadsUsed)"
   ]
  },
  {
   "cell_type": "code",
   "execution_count": 9,
   "id": "e72d9ee0",
   "metadata": {},
   "outputs": [
    {
     "data": {
      "text/plain": [
       "9-element Vector{Float64}:\n",
       " 1030.58\n",
       "  585.999\n",
       "  265.243\n",
       "  136.139\n",
       "   72.3816\n",
       "   50.1233\n",
       "   37.6441\n",
       "   29.7977\n",
       "   25.2241"
      ]
     },
     "execution_count": 9,
     "metadata": {},
     "output_type": "execute_result"
    }
   ],
   "source": [
    "runtime = [1030.58, 510.096, 491.35, 328.382, 189.112, 132.463, 101.16, 82.0501, 69.8807]\n",
    "# modified version with dynamic scheduling\n",
    "runtime2 = [1030.58, 585.999, 265.243, 136.139, 72.3816, 50.1233, 37.6441, 29.7977, 25.2241]"
   ]
  },
  {
   "cell_type": "code",
   "execution_count": 11,
   "id": "23471b36",
   "metadata": {},
   "outputs": [
    {
     "data": {
      "text/plain": [
       "StatsModels.TableRegressionModel{LinearModel{GLM.LmResp{Vector{Float64}}, GLM.DensePredChol{Float64, LinearAlgebra.CholeskyPivoted{Float64, Matrix{Float64}, Vector{Int64}}}}, Matrix{Float64}}\n",
       "\n",
       "speedup2 ~ 1 + threadsUsed\n",
       "\n",
       "Coefficients:\n",
       "─────────────────────────────────────────────────────────────────────────\n",
       "                Coef.  Std. Error       t  Pr(>|t|)  Lower 95%  Upper 95%\n",
       "─────────────────────────────────────────────────────────────────────────\n",
       "(Intercept)  0.387727  0.150501      2.58    0.0367   0.031849   0.743605\n",
       "threadsUsed  0.847677  0.00590565  143.54    <1e-12   0.833712   0.861641\n",
       "─────────────────────────────────────────────────────────────────────────"
      ]
     },
     "execution_count": 11,
     "metadata": {},
     "output_type": "execute_result"
    }
   ],
   "source": [
    "speedup = runtime[1] ./ runtime[:]\n",
    "speedup2 = runtime2[1] ./ runtime2\n",
    "\n",
    "model = lm(@formula(speedup ~ threadsUsed), DataFrame(speedup=speedup, threadsUsed=threadsUsed))\n",
    "model2 = lm(@formula(speedup2 ~ threadsUsed), DataFrame(speedup2=speedup2, threadsUsed=threadsUsed))"
   ]
  },
  {
   "cell_type": "code",
   "execution_count": 12,
   "id": "ce9d2277",
   "metadata": {},
   "outputs": [
    {
     "data": {
      "text/plain": [
       "48-element Vector{Float64}:\n",
       "  1.2354036983141699\n",
       "  2.0830804558383695\n",
       "  2.9307572133625692\n",
       "  3.778433970886769\n",
       "  4.626110728410969\n",
       "  5.473787485935168\n",
       "  6.321464243459368\n",
       "  7.169141000983568\n",
       "  8.016817758507766\n",
       "  8.864494516031968\n",
       "  9.712171273556166\n",
       " 10.559848031080367\n",
       " 11.407524788604565\n",
       "  ⋮\n",
       " 31.751766969185358\n",
       " 32.59944372670956\n",
       " 33.44712048423376\n",
       " 34.294797241757955\n",
       " 35.14247399928215\n",
       " 35.99015075680635\n",
       " 36.837827514330556\n",
       " 37.685504271854754\n",
       " 38.53318102937895\n",
       " 39.38085778690316\n",
       " 40.228534544427355\n",
       " 41.07621130195155"
      ]
     },
     "execution_count": 12,
     "metadata": {},
     "output_type": "execute_result"
    }
   ],
   "source": [
    "intercept = coef(model)[1]\n",
    "slope = coef(model)[2]\n",
    "fit = [slope * i + intercept for i in 1:maximum(threadsUsed)]\n",
    "\n",
    "intercept2 = coef(model2)[1]\n",
    "slope2 = coef(model2)[2]\n",
    "fit2 = [slope2 * i + intercept2 for i in 1:maximum(threadsUsed)]"
   ]
  },
  {
   "cell_type": "code",
   "execution_count": 19,
   "id": "9feadcfe",
   "metadata": {},
   "outputs": [
    {
     "data": {
      "text/plain": [
       "\"/home/timo/ETH/FS24/HPCL24/Project02/project02_skeleton_codes/mandel/MandelbrotStrongScaling.pdf\""
      ]
     },
     "execution_count": 19,
     "metadata": {},
     "output_type": "execute_result"
    }
   ],
   "source": [
    "scatter(threadsUsed, speedup, xlabel=\"Number of Threads\", linestyle=:dot, ylabel=\"Speedup\", label=\"default scheduler\")\n",
    "plot!(ideal, fit, label=\"Fit (0.3)\")\n",
    "scatter!(threadsUsed, speedup2, label=\"using dynamic scheduling\")\n",
    "plot!(ideal, fit2, label=\"Fit (0.85)\")\n",
    "\n",
    "plot!(ideal, ideal, label=\"Ideal (1)\")\n",
    "savefig(\"MandelbrotStrongScaling.pdf\")"
   ]
  },
  {
   "cell_type": "code",
   "execution_count": null,
   "id": "32daae8e",
   "metadata": {},
   "outputs": [],
   "source": []
  }
 ],
 "metadata": {
  "kernelspec": {
   "display_name": "Julia 1.9.3",
   "language": "julia",
   "name": "julia-1.9"
  },
  "language_info": {
   "file_extension": ".jl",
   "mimetype": "application/julia",
   "name": "julia",
   "version": "1.9.3"
  }
 },
 "nbformat": 4,
 "nbformat_minor": 5
}
