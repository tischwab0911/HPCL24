{
 "cells": [
  {
   "cell_type": "code",
   "execution_count": 27,
   "id": "538ee637",
   "metadata": {},
   "outputs": [],
   "source": [
    "using Plots\n",
    "using Pkg\n",
    "#Pkg.add(\"StatsPlots\") \n",
    "using StatsPlots\n",
    "using Statistics"
   ]
  },
  {
   "cell_type": "code",
   "execution_count": 62,
   "id": "63e4a588",
   "metadata": {},
   "outputs": [
    {
     "data": {
      "text/plain": [
       "1:48"
      ]
     },
     "execution_count": 62,
     "metadata": {},
     "output_type": "execute_result"
    }
   ],
   "source": [
    "threadsUsed = [1 2 4 8 16 24 32 40 48]\n",
    "ideal = 1:maximum(threadsUsed)"
   ]
  },
  {
   "cell_type": "code",
   "execution_count": 75,
   "id": "f2952fe4",
   "metadata": {},
   "outputs": [
    {
     "data": {
      "text/plain": [
       "9×5 Matrix{Float64}:\n",
       "  1.00493   1.00223   1.0       0.997303   0.997192\n",
       "  2.0078    1.99914   2.0098    2.00139    2.00527\n",
       "  4.01091   4.02389   4.2498    4.07167    4.48811\n",
       "  7.95646   7.8991    8.51545   7.96669    8.00407\n",
       " 14.4514   15.7623   15.2255   14.1824    14.0118\n",
       " 15.9939   15.4986   15.4552   16.5086    20.9237\n",
       " 18.5444   19.0326   16.9037   20.139     21.9373\n",
       " 19.646    22.5354   19.4533   22.2058    24.9788\n",
       " 27.5245   24.0657   19.0665   19.7669    20.1388"
      ]
     },
     "execution_count": 75,
     "metadata": {},
     "output_type": "execute_result"
    }
   ],
   "source": [
    "# data obtained from running on euler \n",
    "data_serial = [\n",
    "    2.57521938 2.54267575 2.56304598 2.56861009 2.56299866\n",
    "]\n",
    "\n",
    "# data for 1 to 32 threads (using omp parallel and critical)\n",
    "data_critical = [\n",
    "    2.53173687 2.55457333 2.53675113 2.56200324 2.53194354 ;\n",
    "    1.26183951 1.26623122 1.26171081 1.26142391 1.26608764 ;\n",
    "    0.63187114 0.63063821 0.58678552 0.42802383 0.33536993 ;\n",
    "    0.31992377 0.31681863 0.31621070 0.31597893 0.31792877 ;\n",
    "    0.27153957 0.17150934 0.23884474 0.16057923 0.20891837 ;\n",
    "    0.16203544 0.14154100 0.12454125 0.11635130 0.12127666 ;\n",
    "    0.15496891 0.14500432 0.13958390 0.16582536 0.12943588 ;\n",
    "    0.11234693 0.12214575 0.11206646 0.11037941 0.12456504 ;\n",
    "    0.10329660 0.10124086 0.10659837 0.10201158 0.12449173 \n",
    "]\n",
    "\n",
    "# data for 1 to 32 threads (using omp parallel for reduction)\n",
    "data_reduction = [\n",
    "    2.52413444 2.53093418 2.53657908 2.54343764 2.54372094 ;\n",
    "    1.26336287 1.26883377 1.26210557 1.26740777 1.26495624 ;\n",
    "    0.63241973 0.63037917 0.59686972 0.62298206 0.56517784 ;\n",
    "    0.31880755 0.32112246 0.29787956 0.31839820 0.31691119 ;\n",
    "    0.17552463 0.16092705 0.16660036 0.17885383 0.18103196 ;\n",
    "    0.15859626 0.16366479 0.16412465 0.15365218 0.12122988 ;\n",
    "    0.13678439 0.13327566 0.15006097 0.12595342 0.11562853 ;\n",
    "    0.12911433 0.11255959 0.13039319 0.11423027 0.10154928 ;\n",
    "    0.09215729 0.10540234 0.13303856 0.12832473 0.12595459 \n",
    "]\n",
    "\n",
    "baseline_critical = median(data_critical[1, :], dims=1)\n",
    "baseline_reduction = median(data_reduction[1, :], dims=1)\n",
    "\n",
    "speedup_critical = baseline_critical ./ data_critical\n",
    "speedup_reduction = baseline_reduction ./ data_reduction"
   ]
  },
  {
   "cell_type": "code",
   "execution_count": 76,
   "id": "e836cdff",
   "metadata": {},
   "outputs": [
    {
     "data": {
      "text/plain": [
       "\"/home/timo/ETH/FS24/HPCL24/Project02/project02_skeleton_codes/pi/scaling_reduction.pdf\""
      ]
     },
     "execution_count": 76,
     "metadata": {},
     "output_type": "execute_result"
    }
   ],
   "source": [
    "scaling_critical = plot(threadsUsed, transpose(speedup_critical), xlabel=\"Number of Threads\", legend=false, ylabel=\"Speedup\")\n",
    "plot!(ideal, linestyle=:dash, label=\"Ideal Speedup\")\n",
    "savefig(scaling_critical, \"scaling_critical.pdf\")\n",
    "\n",
    "scaling_reduction = plot(threadsUsed, transpose(speedup_reduction), xlabel=\"Number of Threads\", legend=false, ylabel=\"Speedup\")\n",
    "plot!(ideal, linestyle=:dash, label=\"Ideal Speedup\")\n",
    "savefig(scaling_reduction, \"scaling_reduction.pdf\")"
   ]
  },
  {
   "cell_type": "code",
   "execution_count": null,
   "id": "577b81c4",
   "metadata": {},
   "outputs": [],
   "source": []
  },
  {
   "cell_type": "code",
   "execution_count": null,
   "id": "523d7429",
   "metadata": {},
   "outputs": [],
   "source": []
  }
 ],
 "metadata": {
  "kernelspec": {
   "display_name": "Julia 1.9.3",
   "language": "julia",
   "name": "julia-1.9"
  },
  "language_info": {
   "file_extension": ".jl",
   "mimetype": "application/julia",
   "name": "julia",
   "version": "1.9.3"
  }
 },
 "nbformat": 4,
 "nbformat_minor": 5
}
