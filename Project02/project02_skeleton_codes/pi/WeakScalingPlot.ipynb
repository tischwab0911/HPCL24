{
 "cells": [
  {
   "cell_type": "code",
   "execution_count": 65,
   "id": "68c2d26e",
   "metadata": {},
   "outputs": [],
   "source": [
    "using Plots\n",
    "using Statistics"
   ]
  },
  {
   "cell_type": "code",
   "execution_count": 92,
   "id": "296dab62",
   "metadata": {},
   "outputs": [
    {
     "data": {
      "text/plain": [
       "9-element Vector{Int64}:\n",
       "  1\n",
       "  2\n",
       "  4\n",
       "  8\n",
       " 16\n",
       " 24\n",
       " 32\n",
       " 40\n",
       " 48"
      ]
     },
     "execution_count": 92,
     "metadata": {},
     "output_type": "execute_result"
    }
   ],
   "source": [
    "processors = [1, 2, 4, 8, 16, 24, 32, 40, 48]"
   ]
  },
  {
   "cell_type": "code",
   "execution_count": 67,
   "id": "29584f09",
   "metadata": {},
   "outputs": [
    {
     "data": {
      "text/plain": [
       "9×5 Matrix{Float64}:\n",
       " 0.01899    0.0189517  0.022815   0.0226496  0.0196852\n",
       " 0.022544   0.0221083  0.0225378  0.022118   0.0206722\n",
       " 0.0254185  0.025484   0.0254909  0.0254518  0.0259496\n",
       " 0.0267117  0.0267754  0.0267674  0.0255772  0.0269419\n",
       " 0.0272618  0.0257034  0.0264409  0.0277435  0.0289342\n",
       " 0.0403111  0.0300535  0.0324786  0.0274479  0.0259051\n",
       " 0.0345475  0.0282147  0.0382025  0.0279043  0.0260085\n",
       " 0.0498264  0.0407629  0.0434829  0.0518614  0.0339968\n",
       " 0.0557359  0.0484054  0.0278433  0.0621064  0.0593494"
      ]
     },
     "execution_count": 67,
     "metadata": {},
     "output_type": "execute_result"
    }
   ],
   "source": [
    "data_critical = [\n",
    "    0.02264149 0.02758659 0.02276953 0.02288205 0.02306821 ;\n",
    "    0.02104286 0.02296106 0.01904465 0.02214831 0.02194926 ;\n",
    "    0.02775562 0.02760073 0.02799499 0.02585087 0.02677108 ;\n",
    "    0.02805123 0.02623395 0.02745552 0.02741259 0.02555353 ;\n",
    "    0.02788948 0.02778641 0.02770865 0.02767733 0.02757749 ;\n",
    "    0.03091940 0.03273981 0.03357525 0.02682611 0.02698128 ;\n",
    "    0.02729337 0.02720557 0.02726153 0.03142265 0.05068445 ;\n",
    "    0.05584995 0.04665158 0.02668992 0.04866353 0.03846301 ;\n",
    "    0.05965830 0.06471596 0.04597592 0.06831893 0.05956680 \n",
    "]\n",
    "\n",
    "data_reduction = [\n",
    "    0.01899002 0.01895165 0.02281504 0.02264958 0.01968518 ;\n",
    "    0.02254397 0.02210828 0.02253780 0.02211803 0.02067224 ;\n",
    "    0.02541854 0.02548397 0.02549095 0.02545179 0.02594957 ;\n",
    "    0.02671172 0.02677538 0.02676742 0.02557722 0.02694191 ;\n",
    "    0.02726180 0.02570338 0.02644090 0.02774349 0.02893419 ;\n",
    "    0.04031113 0.03005355 0.03247863 0.02744792 0.02590515 ;\n",
    "    0.03454750 0.02821472 0.03820249 0.02790434 0.02600852 ;\n",
    "    0.04982638 0.04076285 0.04348290 0.05186139 0.03399683 ;\n",
    "    0.05573595 0.04840538 0.02784327 0.06210643 0.05934935 \n",
    "]"
   ]
  },
  {
   "cell_type": "code",
   "execution_count": 87,
   "id": "d008a26b",
   "metadata": {},
   "outputs": [
    {
     "data": {
      "text/plain": [
       "9×1 Matrix{Float64}:\n",
       " 1.0\n",
       " 0.8900060267573559\n",
       " 0.772453428567056\n",
       " 0.735415665760839\n",
       " 0.7220792464180649\n",
       " 0.6550034854451471\n",
       " 0.6976918431230223\n",
       " 0.4527108357538251\n",
       " 0.3531864084132414"
      ]
     },
     "execution_count": 87,
     "metadata": {},
     "output_type": "execute_result"
    }
   ],
   "source": [
    "baseline_critical = median(data_critical[1, :], dims=1)\n",
    "baseline_reduction = median(data_reduction[1, :], dims=1)\n",
    "\n",
    "efficiency_critical = baseline_critical ./ data_critical\n",
    "efficiency_reduction = baseline_reduction ./ data_reduction\n",
    "\n",
    "median_efficiency_critical = median(efficiency_critical, dims=2)\n",
    "median_efficiency_reduction = median(efficiency_reduction, dims=2)"
   ]
  },
  {
   "cell_type": "code",
   "execution_count": 88,
   "id": "6626685c",
   "metadata": {},
   "outputs": [
    {
     "data": {
      "text/plain": [
       "48-element Vector{Int64}:\n",
       " 1\n",
       " 1\n",
       " 1\n",
       " 1\n",
       " 1\n",
       " 1\n",
       " 1\n",
       " 1\n",
       " 1\n",
       " 1\n",
       " 1\n",
       " 1\n",
       " 1\n",
       " ⋮\n",
       " 1\n",
       " 1\n",
       " 1\n",
       " 1\n",
       " 1\n",
       " 1\n",
       " 1\n",
       " 1\n",
       " 1\n",
       " 1\n",
       " 1\n",
       " 1"
      ]
     },
     "execution_count": 88,
     "metadata": {},
     "output_type": "execute_result"
    }
   ],
   "source": [
    "ideal = [1 for i in 1:maximum(processors)]"
   ]
  },
  {
   "cell_type": "code",
   "execution_count": 110,
   "id": "ca5adf8b",
   "metadata": {
    "scrolled": false
   },
   "outputs": [
    {
     "data": {
      "text/plain": [
       "\"/home/timo/ETH/FS24/HPCL24/Project02/project02_skeleton_codes/pi/weak_scaling.pdf\""
      ]
     },
     "execution_count": 110,
     "metadata": {},
     "output_type": "execute_result"
    }
   ],
   "source": [
    "plot(processors, median_efficiency_reduction, linestyle=:solid, xlabel=\"Number of Threads\", ylabel=\"Efficiency\", label=\"Reduction\", shape=:x)\n",
    "plot!(processors, median_efficiency_critical, linestyle=:solid, label=\"Critical\", shape=:+)\n",
    "plot!(ideal, linestyle=:dash, label=\"Ideal Efficiency\")\n",
    "xticks!(processors)\n",
    "savefig(\"weak_scaling.pdf\")"
   ]
  },
  {
   "cell_type": "code",
   "execution_count": null,
   "id": "8f582a4a",
   "metadata": {},
   "outputs": [],
   "source": []
  }
 ],
 "metadata": {
  "kernelspec": {
   "display_name": "Julia 1.9.3",
   "language": "julia",
   "name": "julia-1.9"
  },
  "language_info": {
   "file_extension": ".jl",
   "mimetype": "application/julia",
   "name": "julia",
   "version": "1.9.3"
  }
 },
 "nbformat": 4,
 "nbformat_minor": 5
}
