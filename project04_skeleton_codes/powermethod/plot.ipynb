{
 "cells": [
  {
   "cell_type": "markdown",
   "metadata": {},
   "source": [
    "Jupyter notebook to plot scaling results"
   ]
  },
  {
   "cell_type": "code",
   "execution_count": 1,
   "metadata": {},
   "outputs": [],
   "source": [
    "using Plots\n",
    "using Pkg\n",
    "#Pkg.add(\"CSV\")\n",
    "using CSV\n",
    "using DataFrames\n",
    "using Statistics\n",
    "using StatsPlots\n",
    "using GLM"
   ]
  },
  {
   "cell_type": "markdown",
   "metadata": {},
   "source": [
    "Read in the data from CSV file"
   ]
  },
  {
   "cell_type": "code",
   "execution_count": 42,
   "metadata": {},
   "outputs": [
    {
     "data": {
      "text/plain": [
       "35-element Vector{Float64}:\n",
       " 291.644362\n",
       " 291.388745\n",
       " 291.440053\n",
       " 291.455309\n",
       " 291.234812\n",
       " 147.305769\n",
       " 146.449045\n",
       " 146.959968\n",
       " 146.912756\n",
       " 146.94156\n",
       "  74.776716\n",
       "  74.787258\n",
       "  74.412041\n",
       "   ⋮\n",
       "  23.591288\n",
       "  23.568655\n",
       "  17.02043\n",
       "  15.937027\n",
       "  16.60603\n",
       "  16.744282\n",
       "  16.779803\n",
       "  15.422995\n",
       "  15.516654\n",
       "  15.512605\n",
       "  15.449979\n",
       "  15.529079"
      ]
     },
     "execution_count": 42,
     "metadata": {},
     "output_type": "execute_result"
    }
   ],
   "source": [
    "data = CSV.read(\"strong/strongScaling1node.csv\", DataFrame)\n",
    "num_processes = [1, 2, 4, 8, 16, 32, 64]\n",
    "execution_time = data[:, 2]"
   ]
  },
  {
   "cell_type": "code",
   "execution_count": 43,
   "metadata": {},
   "outputs": [],
   "source": [
    "#compute median execution time\n",
    "median_base_time = median(execution_time[1:5])\n",
    "\n",
    "# calculate speedup\n",
    "speedup = []\n",
    "for i in 1:(length(num_processes))\n",
    "  start_index = (i - 1) * 5 + 1\n",
    "  end_index = i * 5\n",
    "  median_time = median(execution_time[start_index:end_index])\n",
    "  push!(speedup, median_base_time / median_time)\n",
    "end"
   ]
  },
  {
   "cell_type": "code",
   "execution_count": 44,
   "metadata": {},
   "outputs": [
    {
     "data": {
      "text/plain": [
       "\"/home/timo/ETH/FS24/HPCL24/project04_skeleton_codes/powermethod/strongScaling1node_speedup.pdf\""
      ]
     },
     "execution_count": 44,
     "metadata": {},
     "output_type": "execute_result"
    }
   ],
   "source": [
    "scatter(num_processes, speedup, xlabel = \"Number of Processes\", ylabel = \"Speedup\", label = \"Measured\", legend = :topleft)\n",
    "plot!([1, 64], [1, 64], label = \"Ideal Speedup\", linestyle = :dash, color = :black)\n",
    "xticks!(num_processes)\n",
    "savefig(\"strongScaling1node_speedup.pdf\")"
   ]
  },
  {
   "cell_type": "code",
   "execution_count": 48,
   "metadata": {},
   "outputs": [
    {
     "data": {
      "text/plain": [
       "\"/home/timo/ETH/FS24/HPCL24/project04_skeleton_codes/powermethod/strongScaling1node_efficiency.pdf\""
      ]
     },
     "execution_count": 48,
     "metadata": {},
     "output_type": "execute_result"
    }
   ],
   "source": [
    "efficiency = speedup ./ num_processes\n",
    "plot(num_processes, efficiency, xlabel = \"Number of Processes\", ylabel = \"Efficiency\", label=\"Measured\")\n",
    "plot!([1, 64], [1, 1], label = \"Ideal Efficiency\", linestyle = :dash, color = :black)\n",
    "xticks!(num_processes)\n",
    "savefig(\"strongScaling1node_efficiency.pdf\")"
   ]
  },
  {
   "cell_type": "code",
   "execution_count": null,
   "metadata": {},
   "outputs": [],
   "source": []
  }
 ],
 "metadata": {
  "kernelspec": {
   "display_name": "Julia 1.9.3",
   "language": "julia",
   "name": "julia-1.9"
  },
  "language_info": {
   "file_extension": ".jl",
   "mimetype": "application/julia",
   "name": "julia",
   "version": "1.9.3"
  }
 },
 "nbformat": 4,
 "nbformat_minor": 2
}
