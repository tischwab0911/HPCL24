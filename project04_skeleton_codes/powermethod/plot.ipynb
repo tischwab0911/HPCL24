{
 "cells": [
  {
   "cell_type": "markdown",
   "metadata": {},
   "source": [
    "Jupyter notebook to plot scaling results"
   ]
  },
  {
   "cell_type": "code",
   "execution_count": 1,
   "metadata": {},
   "outputs": [],
   "source": [
    "using Plots\n",
    "using Pkg\n",
    "#Pkg.add(\"CSV\")\n",
    "using CSV\n",
    "using DataFrames\n",
    "using Statistics\n",
    "using StatsPlots\n",
    "using GLM"
   ]
  },
  {
   "cell_type": "markdown",
   "metadata": {},
   "source": [
    "Read in the data from CSV file"
   ]
  },
  {
   "cell_type": "code",
   "execution_count": 13,
   "metadata": {},
   "outputs": [
    {
     "data": {
      "text/plain": [
       "35-element Vector{Float64}:\n",
       " 297.098485\n",
       " 296.576417\n",
       " 296.598151\n",
       " 296.448247\n",
       " 296.549504\n",
       " 149.672791\n",
       " 149.364151\n",
       " 149.00882\n",
       " 148.875523\n",
       " 148.962323\n",
       "  75.417534\n",
       "  75.473161\n",
       "  75.165994\n",
       "   ⋮\n",
       "  21.284779\n",
       "  21.553801\n",
       "  14.662089\n",
       "  14.995713\n",
       "  15.539434\n",
       "  15.411574\n",
       "  15.738357\n",
       "   7.868206\n",
       "   7.823601\n",
       "   7.774091\n",
       "   7.922383\n",
       "   7.390045"
      ]
     },
     "execution_count": 13,
     "metadata": {},
     "output_type": "execute_result"
    }
   ],
   "source": [
    "data = CSV.read(\"strong/power-56611170.csv\", DataFrame)\n",
    "num_processes = [1, 2, 4, 8, 16, 32, 64]\n",
    "execution_time = data[:, 2]"
   ]
  },
  {
   "cell_type": "code",
   "execution_count": 16,
   "metadata": {},
   "outputs": [],
   "source": [
    "#compute median execution time\n",
    "median_base_time = median(execution_time[1:5])\n",
    "\n",
    "# calculate speedup\n",
    "speedup = []\n",
    "for i in 1:(length(num_processes))\n",
    "  start_index = (i - 1) * 5 + 1\n",
    "  end_index = i * 5\n",
    "  median_time = median(execution_time[start_index:end_index])\n",
    "  push!(speedup, median_base_time / median_time)\n",
    "end"
   ]
  },
  {
   "cell_type": "code",
   "execution_count": 32,
   "metadata": {},
   "outputs": [
    {
     "data": {
      "text/plain": [
       "\"/home/timo/ETH/FS24/HPCL24/project04_skeleton_codes/powermethod/strong_scaling_speedup.png\""
      ]
     },
     "execution_count": 32,
     "metadata": {},
     "output_type": "execute_result"
    }
   ],
   "source": [
    "scatter(num_processes, speedup, xlabel = \"Number of Processes\", ylabel = \"Speedup\")\n",
    "plot!([1, 64], [1, 64], label = \"Ideal Speedup\", linestyle = :dash, color = :black)\n",
    "savefig(\"strong_scaling_speedup.png\")"
   ]
  },
  {
   "cell_type": "code",
   "execution_count": 31,
   "metadata": {},
   "outputs": [
    {
     "data": {
      "text/plain": [
       "\"/home/timo/ETH/FS24/HPCL24/project04_skeleton_codes/powermethod/strong_scaling_efficiency.pdf\""
      ]
     },
     "execution_count": 31,
     "metadata": {},
     "output_type": "execute_result"
    }
   ],
   "source": [
    "efficiency = speedup ./ num_processes\n",
    "scatter(num_processes, efficiency, xlabel = \"Number of Processes\", ylabel = \"Efficiency\")\n",
    "savefig(\"strong_scaling_efficiency.pdf\")"
   ]
  },
  {
   "cell_type": "code",
   "execution_count": null,
   "metadata": {},
   "outputs": [],
   "source": []
  }
 ],
 "metadata": {
  "kernelspec": {
   "display_name": "Julia 1.9.3",
   "language": "julia",
   "name": "julia-1.9"
  },
  "language_info": {
   "file_extension": ".jl",
   "mimetype": "application/julia",
   "name": "julia",
   "version": "1.9.3"
  }
 },
 "nbformat": 4,
 "nbformat_minor": 2
}
