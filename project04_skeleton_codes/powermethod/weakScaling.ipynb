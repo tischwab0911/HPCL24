{
 "cells": [
  {
   "cell_type": "code",
   "execution_count": 13,
   "metadata": {},
   "outputs": [],
   "source": [
    "using Plots\n",
    "using Statistics\n",
    "using CSV\n",
    "using DataFrames\n",
    "using StatsPlots"
   ]
  },
  {
   "cell_type": "markdown",
   "metadata": {},
   "source": [
    "Read in data from CSV file"
   ]
  },
  {
   "cell_type": "code",
   "execution_count": 49,
   "metadata": {},
   "outputs": [
    {
     "data": {
      "text/html": [
       "<div><div style = \"float: left;\"><span>34×2 DataFrame</span></div><div style = \"float: right;\"><span style = \"font-style: italic;\">9 rows omitted</span></div><div style = \"clear: both;\"></div></div><div class = \"data-frame\" style = \"overflow-x: scroll;\"><table class = \"data-frame\" style = \"margin-bottom: 6px;\"><thead><tr class = \"header\"><th class = \"rowNumber\" style = \"font-weight: bold; text-align: right;\">Row</th><th style = \"text-align: left;\">1</th><th style = \"text-align: left;\">48.807594</th></tr><tr class = \"subheader headerLastRow\"><th class = \"rowNumber\" style = \"font-weight: bold; text-align: right;\"></th><th title = \"Int64\" style = \"text-align: left;\">Int64</th><th title = \"Float64\" style = \"text-align: left;\">Float64</th></tr></thead><tbody><tr><td class = \"rowNumber\" style = \"font-weight: bold; text-align: right;\">1</td><td style = \"text-align: right;\">1</td><td style = \"text-align: right;\">48.3693</td></tr><tr><td class = \"rowNumber\" style = \"font-weight: bold; text-align: right;\">2</td><td style = \"text-align: right;\">1</td><td style = \"text-align: right;\">48.3858</td></tr><tr><td class = \"rowNumber\" style = \"font-weight: bold; text-align: right;\">3</td><td style = \"text-align: right;\">1</td><td style = \"text-align: right;\">48.4093</td></tr><tr><td class = \"rowNumber\" style = \"font-weight: bold; text-align: right;\">4</td><td style = \"text-align: right;\">1</td><td style = \"text-align: right;\">48.4295</td></tr><tr><td class = \"rowNumber\" style = \"font-weight: bold; text-align: right;\">5</td><td style = \"text-align: right;\">2</td><td style = \"text-align: right;\">49.0929</td></tr><tr><td class = \"rowNumber\" style = \"font-weight: bold; text-align: right;\">6</td><td style = \"text-align: right;\">2</td><td style = \"text-align: right;\">48.6838</td></tr><tr><td class = \"rowNumber\" style = \"font-weight: bold; text-align: right;\">7</td><td style = \"text-align: right;\">2</td><td style = \"text-align: right;\">48.6074</td></tr><tr><td class = \"rowNumber\" style = \"font-weight: bold; text-align: right;\">8</td><td style = \"text-align: right;\">2</td><td style = \"text-align: right;\">48.7265</td></tr><tr><td class = \"rowNumber\" style = \"font-weight: bold; text-align: right;\">9</td><td style = \"text-align: right;\">2</td><td style = \"text-align: right;\">48.5599</td></tr><tr><td class = \"rowNumber\" style = \"font-weight: bold; text-align: right;\">10</td><td style = \"text-align: right;\">4</td><td style = \"text-align: right;\">50.4743</td></tr><tr><td class = \"rowNumber\" style = \"font-weight: bold; text-align: right;\">11</td><td style = \"text-align: right;\">4</td><td style = \"text-align: right;\">49.4522</td></tr><tr><td class = \"rowNumber\" style = \"font-weight: bold; text-align: right;\">12</td><td style = \"text-align: right;\">4</td><td style = \"text-align: right;\">49.4504</td></tr><tr><td class = \"rowNumber\" style = \"font-weight: bold; text-align: right;\">13</td><td style = \"text-align: right;\">4</td><td style = \"text-align: right;\">49.856</td></tr><tr><td style = \"text-align: right;\">&vellip;</td><td style = \"text-align: right;\">&vellip;</td><td style = \"text-align: right;\">&vellip;</td></tr><tr><td class = \"rowNumber\" style = \"font-weight: bold; text-align: right;\">23</td><td style = \"text-align: right;\">16</td><td style = \"text-align: right;\">76.8785</td></tr><tr><td class = \"rowNumber\" style = \"font-weight: bold; text-align: right;\">24</td><td style = \"text-align: right;\">16</td><td style = \"text-align: right;\">83.5241</td></tr><tr><td class = \"rowNumber\" style = \"font-weight: bold; text-align: right;\">25</td><td style = \"text-align: right;\">32</td><td style = \"text-align: right;\">83.2716</td></tr><tr><td class = \"rowNumber\" style = \"font-weight: bold; text-align: right;\">26</td><td style = \"text-align: right;\">32</td><td style = \"text-align: right;\">78.4032</td></tr><tr><td class = \"rowNumber\" style = \"font-weight: bold; text-align: right;\">27</td><td style = \"text-align: right;\">32</td><td style = \"text-align: right;\">79.9232</td></tr><tr><td class = \"rowNumber\" style = \"font-weight: bold; text-align: right;\">28</td><td style = \"text-align: right;\">32</td><td style = \"text-align: right;\">81.3453</td></tr><tr><td class = \"rowNumber\" style = \"font-weight: bold; text-align: right;\">29</td><td style = \"text-align: right;\">32</td><td style = \"text-align: right;\">81.2913</td></tr><tr><td class = \"rowNumber\" style = \"font-weight: bold; text-align: right;\">30</td><td style = \"text-align: right;\">64</td><td style = \"text-align: right;\">154.889</td></tr><tr><td class = \"rowNumber\" style = \"font-weight: bold; text-align: right;\">31</td><td style = \"text-align: right;\">64</td><td style = \"text-align: right;\">154.726</td></tr><tr><td class = \"rowNumber\" style = \"font-weight: bold; text-align: right;\">32</td><td style = \"text-align: right;\">64</td><td style = \"text-align: right;\">154.834</td></tr><tr><td class = \"rowNumber\" style = \"font-weight: bold; text-align: right;\">33</td><td style = \"text-align: right;\">64</td><td style = \"text-align: right;\">154.928</td></tr><tr><td class = \"rowNumber\" style = \"font-weight: bold; text-align: right;\">34</td><td style = \"text-align: right;\">64</td><td style = \"text-align: right;\">154.615</td></tr></tbody></table></div>"
      ],
      "text/latex": [
       "\\begin{tabular}{r|cc}\n",
       "\t& 1 & 48.807594\\\\\n",
       "\t\\hline\n",
       "\t& Int64 & Float64\\\\\n",
       "\t\\hline\n",
       "\t1 & 1 & 48.3693 \\\\\n",
       "\t2 & 1 & 48.3858 \\\\\n",
       "\t3 & 1 & 48.4093 \\\\\n",
       "\t4 & 1 & 48.4295 \\\\\n",
       "\t5 & 2 & 49.0929 \\\\\n",
       "\t6 & 2 & 48.6838 \\\\\n",
       "\t7 & 2 & 48.6074 \\\\\n",
       "\t8 & 2 & 48.7265 \\\\\n",
       "\t9 & 2 & 48.5599 \\\\\n",
       "\t10 & 4 & 50.4743 \\\\\n",
       "\t11 & 4 & 49.4522 \\\\\n",
       "\t12 & 4 & 49.4504 \\\\\n",
       "\t13 & 4 & 49.856 \\\\\n",
       "\t14 & 4 & 50.5336 \\\\\n",
       "\t15 & 8 & 50.1101 \\\\\n",
       "\t16 & 8 & 50.1927 \\\\\n",
       "\t17 & 8 & 50.103 \\\\\n",
       "\t18 & 8 & 50.9249 \\\\\n",
       "\t19 & 8 & 49.9556 \\\\\n",
       "\t20 & 16 & 76.9819 \\\\\n",
       "\t21 & 16 & 83.8614 \\\\\n",
       "\t22 & 16 & 82.8873 \\\\\n",
       "\t23 & 16 & 76.8785 \\\\\n",
       "\t24 & 16 & 83.5241 \\\\\n",
       "\t25 & 32 & 83.2716 \\\\\n",
       "\t26 & 32 & 78.4032 \\\\\n",
       "\t27 & 32 & 79.9232 \\\\\n",
       "\t28 & 32 & 81.3453 \\\\\n",
       "\t29 & 32 & 81.2913 \\\\\n",
       "\t30 & 64 & 154.889 \\\\\n",
       "\t$\\dots$ & $\\dots$ & $\\dots$ \\\\\n",
       "\\end{tabular}\n"
      ],
      "text/plain": [
       "\u001b[1m34×2 DataFrame\u001b[0m\n",
       "\u001b[1m Row \u001b[0m│\u001b[1m 1     \u001b[0m\u001b[1m 48.807594 \u001b[0m\n",
       "     │\u001b[90m Int64 \u001b[0m\u001b[90m Float64   \u001b[0m\n",
       "─────┼──────────────────\n",
       "   1 │     1    48.3693\n",
       "   2 │     1    48.3858\n",
       "   3 │     1    48.4093\n",
       "   4 │     1    48.4295\n",
       "   5 │     2    49.0929\n",
       "   6 │     2    48.6838\n",
       "   7 │     2    48.6074\n",
       "   8 │     2    48.7265\n",
       "   9 │     2    48.5599\n",
       "  10 │     4    50.4743\n",
       "  11 │     4    49.4522\n",
       "  ⋮  │   ⋮        ⋮\n",
       "  25 │    32    83.2716\n",
       "  26 │    32    78.4032\n",
       "  27 │    32    79.9232\n",
       "  28 │    32    81.3453\n",
       "  29 │    32    81.2913\n",
       "  30 │    64   154.889\n",
       "  31 │    64   154.726\n",
       "  32 │    64   154.834\n",
       "  33 │    64   154.928\n",
       "  34 │    64   154.615\n",
       "\u001b[36m         13 rows omitted\u001b[0m"
      ]
     },
     "execution_count": 49,
     "metadata": {},
     "output_type": "execute_result"
    }
   ],
   "source": [
    "data = CSV.read(\"weak/weakScaling1node.csv\", DataFrame)"
   ]
  },
  {
   "cell_type": "markdown",
   "metadata": {},
   "source": []
  },
  {
   "cell_type": "code",
   "execution_count": 10,
   "metadata": {},
   "outputs": [
    {
     "data": {
      "text/plain": [
       "35-element Vector{Int64}:\n",
       "  1\n",
       "  1\n",
       "  1\n",
       "  1\n",
       "  1\n",
       "  2\n",
       "  2\n",
       "  2\n",
       "  2\n",
       "  2\n",
       "  4\n",
       "  4\n",
       "  4\n",
       "  ⋮\n",
       " 16\n",
       " 16\n",
       " 32\n",
       " 32\n",
       " 32\n",
       " 32\n",
       " 32\n",
       " 64\n",
       " 64\n",
       " 64\n",
       " 64\n",
       " 64"
      ]
     },
     "execution_count": 10,
     "metadata": {},
     "output_type": "execute_result"
    }
   ],
   "source": [
    "execution_time = data[:, 2]\n",
    "num_processes = data[:, 1]"
   ]
  },
  {
   "cell_type": "code",
   "execution_count": 47,
   "metadata": {},
   "outputs": [
    {
     "data": {
      "text/plain": [
       "\"/home/timo/ETH/FS24/HPCL24/project04_skeleton_codes/powermethod/weakScaling64nodes_time.pdf\""
      ]
     },
     "execution_count": 47,
     "metadata": {},
     "output_type": "execute_result"
    }
   ],
   "source": [
    "scatter(num_processes,execution_time, xscale=:log2, xlabel=\"Number of Processes\", ylabel=\"Execution Time (s)\", legend=false)\n",
    "xticks!([1, 2, 4, 8, 16, 32, 64], [\"1\", \"2\", \"4\", \"8\", \"16\", \"32\", \"64\"])\n",
    "savefig(\"weakScaling64nodes_time.pdf\")\n"
   ]
  },
  {
   "cell_type": "code",
   "execution_count": 38,
   "metadata": {},
   "outputs": [
    {
     "data": {
      "text/plain": [
       "7-element Vector{Float64}:\n",
       " 1.0\n",
       " 0.4947141615968009\n",
       " 0.1617473615873723\n",
       " 0.05676752769684251\n",
       " 0.026706493436830073\n",
       " 0.011476620700436875\n",
       " 0.004867766820545019"
      ]
     },
     "execution_count": 38,
     "metadata": {},
     "output_type": "execute_result"
    }
   ],
   "source": [
    "median_base_time = median(execution_time[1:5])\n",
    "\n",
    "# calculate speedup\n",
    "speedup = []\n",
    "for i in 1:7\n",
    "  start_index = (i - 1) * 5 + 1\n",
    "  end_index = i * 5\n",
    "  median_time = median(execution_time[start_index:end_index])\n",
    "  push!(speedup, median_base_time / median_time)\n",
    "end\n",
    "efficiency = speedup ./ [1, 2, 4, 8, 16, 32, 64]"
   ]
  },
  {
   "cell_type": "code",
   "execution_count": 48,
   "metadata": {},
   "outputs": [
    {
     "data": {
      "text/plain": [
       "\"/home/timo/ETH/FS24/HPCL24/project04_skeleton_codes/powermethod/weakScaling64nodes_efficiency.pdf\""
      ]
     },
     "execution_count": 48,
     "metadata": {},
     "output_type": "execute_result"
    }
   ],
   "source": [
    "plot([1, 2, 4, 8, 16, 32, 64], speedup, xlabel=\"Number of Processes\", ylabel=\"Efficiency\", label=\"measured efficiency\")\n",
    "plot!([1, 64], [1, 1], label=\"ideal efficiency\")\n",
    "xticks!([1, 2, 4, 8, 16, 32, 64], [\"1\", \"2\", \"4\", \"8\", \"16\", \"32\", \"64\"])\n",
    "savefig(\"weakScaling64nodes_efficiency.pdf\")"
   ]
  },
  {
   "cell_type": "code",
   "execution_count": null,
   "metadata": {},
   "outputs": [],
   "source": []
  }
 ],
 "metadata": {
  "kernelspec": {
   "display_name": "Julia 1.9.3",
   "language": "julia",
   "name": "julia-1.9"
  },
  "language_info": {
   "file_extension": ".jl",
   "mimetype": "application/julia",
   "name": "julia",
   "version": "1.9.3"
  }
 },
 "nbformat": 4,
 "nbformat_minor": 2
}
